{
 "cells": [
  {
   "cell_type": "markdown",
   "metadata": {},
   "source": [
    "### Need to generate Adult Data and pass it in self.data\n",
    "<ul>\n",
    "    <li>Need ask best params from Rosin</li>\n",
    "    <li> run Adult\n",
    "    <li> Save data from PreProcessing somewhere\n",
    "    <li> <del>Wrap to take two csv of corresponding original (label)\n",
    "    <li> Code test testing loop\n",
    "    <li> What to use as test loss and final metric\n",
    "    <li> Same Encoding\n",
    "</ul>\n"
   ]
  },
  {
   "cell_type": "markdown",
   "metadata": {},
   "source": [
    "### Imports"
   ]
  },
  {
   "cell_type": "code",
   "execution_count": 1,
   "metadata": {},
   "outputs": [
    {
     "name": "stdout",
     "output_type": "stream",
     "text": [
      "\n",
      " *** \n",
      " Currently running on cpu\n",
      " *** \n",
      "\n"
     ]
    }
   ],
   "source": [
    "# # Imports\n",
    "import utilities as utils\n",
    "# import datasets as d\n",
    "\n",
    "# from Stats import Plots as Pl\n",
    "import tqdm\n",
    "import yaml\n",
    "import json\n",
    "import torch\n",
    "import os.path\n",
    "import warnings\n",
    "import importlib\n",
    "import random\n",
    "import torchvision\n",
    "import numpy as np\n",
    "import pandas as pd\n",
    "from torch import nn\n",
    "import seaborn as sns\n",
    "from typing import List\n",
    "from torch.utils.data import *\n",
    "import matplotlib.pyplot as plt\n",
    "from torch.utils import data as td\n",
    "from joblib import Parallel, delayed\n",
    "\n",
    "DEVICE = torch.device(\"cuda:0\" if torch.cuda.is_available() else \"cpu\")\n",
    "CPU_DEVICE = torch.device(\"cpu\")\n",
    "GET_VALUE = lambda x: x.to(CPU_DEVICE).data.numpy().reshape(-1)[0]\n",
    "print(f\"\\n *** \\n Currently running on {DEVICE}\\n *** \\n\")"
   ]
  },
  {
   "cell_type": "code",
   "execution_count": 2,
   "metadata": {},
   "outputs": [],
   "source": [
    "# Data import & Pre-processing\n",
    "  \n",
    "class My_dataLoader:\n",
    "    def __init__(self, batch_size : int, data_path :str, label_path:str, n_train :int,  label_col_name:str, test_batch_size:int=128):\n",
    "        '''\n",
    "            Creates train and test loaders from local files, to be easily used by torch.nn\n",
    "            \n",
    "            :batch_size: int for size of training batches\n",
    "            :data_path: path to csv where data is. 2d file\n",
    "            :label_path: csv containing labels. line by line equivalent to data_path file\n",
    "            :n_train: int for the size of training set (assigned randomly)\n",
    "            :test_batch: size of batches at test time. If none, will be same \n",
    "                    as training\n",
    "            :label_col_name name of columns that contains labels\n",
    "        '''\n",
    "        self.batch_size = batch_size\n",
    "        self.train_size = n_train\n",
    "        self.test_batch = test_batch_size\n",
    "        \n",
    "        df_data = pd.read_csv(data_path)\n",
    "        df_label = pd.read_csv(label_path)\n",
    "        \n",
    "        a = df_data.values\n",
    "        b = df_label.values\n",
    "        self.data = torch.tensor(a[:,:]) # where data is 2d [D_train_size x features]\n",
    "        self.labels = torch.tensor(b[:,:]) # also has too be 2d\n",
    "        \n",
    "        self.local_dataset = torch.utils.data.TensorDataset(self.data, self.labels)\n",
    "                     \n",
    "        #custom_transform = transforms.Normalize((mean_mean,), (std_mean,)) \n",
    "        \n",
    "        \n",
    "        indices = list(range(len(self.local_dataset)))\n",
    "        random.shuffle(indices)\n",
    "        \n",
    "        # Split dataset into train and Test sets\n",
    "        self.train_loader = torch.utils.data.DataLoader(\n",
    "            self.local_dataset,\n",
    "            batch_size=self.batch_size,\n",
    "            sampler=SubsetRandomSampler(indices[:self.train_size]),\n",
    "            num_workers=1,\n",
    "            pin_memory=False\n",
    "        )\n",
    "\n",
    "        self.test_loader = DataLoader(\n",
    "            self.local_dataset,\n",
    "            batch_size=self.test_batch,\n",
    "            sampler=SubsetRandomSampler(indices[self.train_size:]),\n",
    "            num_workers=1,\n",
    "            pin_memory=False\n",
    "        )\n",
    "\n",
    "class PreProcessing:\n",
    "    def __init__(self, params_file: str):\n",
    "        '''\n",
    "            Imports all variables/parameters necessary for preparation of training.\n",
    "            Looks into params.yaml, then creates dataloader that can be used\n",
    "            \n",
    "            params_file: path to file that contains parameters.\n",
    "                            Needs to follow a specific naming and format\n",
    "        '''\n",
    "        # Import params\n",
    "        stream = open(params_file, 'r')\n",
    "        self.params = yaml.load(stream, yaml.FullLoader)\n",
    "\n",
    "        import_path = self.params['data_loading']['data_path']['value']\n",
    "        label_path = self.params['data_loading']['label_path']['value']\n",
    "\n",
    "        batchSize = self.params['model_params']['batchSize']['value']\n",
    "        test_batch_size = self.params['model_params']['test_batch_size']['value']\n",
    "        percent_train_set = self.params['model_params']['percent_train_set']['value']\n",
    "\n",
    "\n",
    "        df2 = pd.read_csv(import_path)\n",
    "        df_labels = pd.read_csv(label_path)\n",
    "        n_test = int(len(df2.iloc[:,0])*percent_train_set)\n",
    "\n",
    "        if df2.shape != df_labels.shape:\n",
    "            print(df2.shape)\n",
    "            print(df_labels.shape)\n",
    "            raise ValueError(\"The labels csv and data csv don't have the same shape.\")\n",
    "        \n",
    "        data_cat_list = utils.find_cat(df2)\n",
    "        label_cat_list = utils.find_cat(df_labels)\n",
    "        \n",
    "        if data_cat_list != label_cat_list:\n",
    "            raise ValueError('The categorical data columns found in your data doesnt match the ones found in your labels.\\n That means the AE will learn on data that is encoded differently from the labels it tries to immitate.') \n",
    "       \n",
    "        \n",
    "        if len(data_cat_list) > 0:\n",
    "            print(f\"Categorical variable found. Running Pandas dummy_variable encoding on {len(data_cat_list)} columns \\n\")\n",
    "            df_data = utils.dummy_encode(df2, data_cat_list)\n",
    "            df_labels = utils.dummy_encode(df_labels, label_cat_list)\n",
    "            print(f\"Saving output dataset under {import_path[:-4]}_NoCat.csv \\n\")\n",
    "            df_data.to_csv(f\"{import_path[:-4]}_NoCat.csv\", index=False)\n",
    "            \n",
    "            df_data, df_labels = utils.adjust_enc_errors(df_data, df_labels)\n",
    "            if df_data.shape != df_labels.shape:\n",
    "                print(df_data.shape)\n",
    "                print(df_labels.shape)\n",
    "#                 import pdb;pdb.set_trace()\n",
    "                raise ValueError(\"The labels csv and data post-encoding don't have the same shape.\")\n",
    "                \n",
    "            df_labels.to_csv(f\"{label_path[:-4]}_NoCat.csv\", index=False)\n",
    "            self.dataloader = My_dataLoader(batchSize, f\"{import_path[:-4]}_NoCat.csv\", f\"{label_path[:-4]}_NoCat.csv\", n_test, \"income\", test_batch_size)\n",
    "        \n",
    "        else: # no categorical vars found\n",
    "            self.dataloader = My_dataLoader(batchSize, import_path, n_test, \"income\", test_batch_size)\n",
    "        \n",
    "        # Save data somewhere\n",
    "#         1 - make dir inside experimetns with copy of params.yaml\n",
    "#         2- dump json with other info in there\n",
    "#         dataset_name = data['data_loading']['path']['value'].split('/')[-1]\n",
    "        \n",
    "#         with open(f'./experiments/{dataset_name}_{}.txt', 'w') as file:\n",
    "#              file.write(json.dumps(exDict))\n",
    "        "
   ]
  },
  {
   "cell_type": "code",
   "execution_count": 3,
   "metadata": {},
   "outputs": [
    {
     "name": "stdout",
     "output_type": "stream",
     "text": [
      "Categorical variable found. Running Pandas dummy_variable encoding on 12 columns \n",
      "\n",
      "Saving output dataset under ../GeneralDatasets/sanitizer_output/german_credit/full_A=1-No=1--E=10_NoCat.csv \n",
      "\n"
     ]
    },
    {
     "ename": "NameError",
     "evalue": "name 'data_df' is not defined",
     "output_type": "error",
     "traceback": [
      "\u001b[0;31m---------------------------------------------------------------------------\u001b[0m",
      "\u001b[0;31mNameError\u001b[0m                                 Traceback (most recent call last)",
      "\u001b[0;32m<ipython-input-3-7f9514e0a64b>\u001b[0m in \u001b[0;36m<module>\u001b[0;34m\u001b[0m\n\u001b[0;32m----> 1\u001b[0;31m \u001b[0mexperiment_x\u001b[0m \u001b[0;34m=\u001b[0m \u001b[0mPreProcessing\u001b[0m\u001b[0;34m(\u001b[0m\u001b[0;34m\"params.yaml\"\u001b[0m\u001b[0;34m)\u001b[0m\u001b[0;34m\u001b[0m\u001b[0;34m\u001b[0m\u001b[0m\n\u001b[0m",
      "\u001b[0;32m<ipython-input-2-1743759139cd>\u001b[0m in \u001b[0;36m__init__\u001b[0;34m(self, params_file)\u001b[0m\n\u001b[1;32m     95\u001b[0m             \u001b[0mdf_data\u001b[0m\u001b[0;34m.\u001b[0m\u001b[0mto_csv\u001b[0m\u001b[0;34m(\u001b[0m\u001b[0;34mf\"{import_path[:-4]}_NoCat.csv\"\u001b[0m\u001b[0;34m,\u001b[0m \u001b[0mindex\u001b[0m\u001b[0;34m=\u001b[0m\u001b[0;32mFalse\u001b[0m\u001b[0;34m)\u001b[0m\u001b[0;34m\u001b[0m\u001b[0;34m\u001b[0m\u001b[0m\n\u001b[1;32m     96\u001b[0m \u001b[0;34m\u001b[0m\u001b[0m\n\u001b[0;32m---> 97\u001b[0;31m             \u001b[0mdf_data\u001b[0m\u001b[0;34m,\u001b[0m \u001b[0mdf_labels\u001b[0m \u001b[0;34m=\u001b[0m \u001b[0mutils\u001b[0m\u001b[0;34m.\u001b[0m\u001b[0madjust_enc_errors\u001b[0m\u001b[0;34m(\u001b[0m\u001b[0mdf_data\u001b[0m\u001b[0;34m,\u001b[0m \u001b[0mdf_labels\u001b[0m\u001b[0;34m)\u001b[0m\u001b[0;34m\u001b[0m\u001b[0;34m\u001b[0m\u001b[0m\n\u001b[0m\u001b[1;32m     98\u001b[0m             \u001b[0;32mif\u001b[0m \u001b[0mdf_data\u001b[0m\u001b[0;34m.\u001b[0m\u001b[0mshape\u001b[0m \u001b[0;34m!=\u001b[0m \u001b[0mdf_labels\u001b[0m\u001b[0;34m.\u001b[0m\u001b[0mshape\u001b[0m\u001b[0;34m:\u001b[0m\u001b[0;34m\u001b[0m\u001b[0;34m\u001b[0m\u001b[0m\n\u001b[1;32m     99\u001b[0m                 \u001b[0mprint\u001b[0m\u001b[0;34m(\u001b[0m\u001b[0mdf_data\u001b[0m\u001b[0;34m.\u001b[0m\u001b[0mshape\u001b[0m\u001b[0;34m)\u001b[0m\u001b[0;34m\u001b[0m\u001b[0;34m\u001b[0m\u001b[0m\n",
      "\u001b[0;32m~/Desktop/udem_H20/thesis_research/reconstructor/utilities.py\u001b[0m in \u001b[0;36madjust_enc_errors\u001b[0;34m(df, df2)\u001b[0m\n\u001b[1;32m     62\u001b[0m \u001b[0;31m#         data_df = df[df2.columns]\u001b[0m\u001b[0;34m\u001b[0m\u001b[0;34m\u001b[0m\u001b[0;34m\u001b[0m\u001b[0m\n\u001b[1;32m     63\u001b[0m \u001b[0;34m\u001b[0m\u001b[0m\n\u001b[0;32m---> 64\u001b[0;31m         \u001b[0;32mreturn\u001b[0m \u001b[0mdata_df\u001b[0m\u001b[0;34m,\u001b[0m \u001b[0mlabels_df\u001b[0m\u001b[0;34m\u001b[0m\u001b[0;34m\u001b[0m\u001b[0m\n\u001b[0m\u001b[1;32m     65\u001b[0m \u001b[0;34m\u001b[0m\u001b[0m\n\u001b[1;32m     66\u001b[0m \u001b[0;34m\u001b[0m\u001b[0m\n",
      "\u001b[0;31mNameError\u001b[0m: name 'data_df' is not defined"
     ]
    }
   ],
   "source": [
    "experiment_x = PreProcessing(\"params.yaml\")"
   ]
  },
  {
   "cell_type": "markdown",
   "metadata": {},
   "source": [
    "### Training"
   ]
  },
  {
   "cell_type": "code",
   "execution_count": 30,
   "metadata": {},
   "outputs": [],
   "source": [
    "# Box\n",
    "\n",
    "class autoencoder(nn.Module):\n",
    "    def __init__(self, in_dim, out_dim):\n",
    "        super(autoencoder, self).__init__()\n",
    "        self.encoder = nn.Sequential(\n",
    "            nn.Linear(in_dim, 128),\n",
    "            nn.ReLU(True),\n",
    "            nn.Linear(128, 64),\n",
    "            nn.ReLU(True), nn.Linear(64, 12), nn.ReLU(True), nn.Linear(12, 3))\n",
    "        self.decoder = nn.Sequential(\n",
    "            nn.Linear(3, 12),\n",
    "            nn.ReLU(True),\n",
    "            nn.Linear(12, 64),\n",
    "            nn.ReLU(True),\n",
    "            nn.Linear(64, 128),\n",
    "            nn.ReLU(True), nn.Linear(128, out_dim), nn.Tanh())\n",
    "\n",
    "    def forward(self, x):\n",
    "        x = self.encoder(x)\n",
    "        x = self.decoder(x)\n",
    "        return x"
   ]
  },
  {
   "cell_type": "code",
   "execution_count": 38,
   "metadata": {},
   "outputs": [
    {
     "data": {
      "text/plain": [
       "torch.Size([1000, 31])"
      ]
     },
     "execution_count": 38,
     "metadata": {},
     "output_type": "execute_result"
    }
   ],
   "source": [
    "experiment_x.dataloader.data.shape"
   ]
  },
  {
   "cell_type": "code",
   "execution_count": 32,
   "metadata": {},
   "outputs": [
    {
     "ename": "AttributeError",
     "evalue": "'PreProcessing' object has no attribute 'parameters'",
     "output_type": "error",
     "traceback": [
      "\u001b[0;31m---------------------------------------------------------------------------\u001b[0m",
      "\u001b[0;31mAttributeError\u001b[0m                            Traceback (most recent call last)",
      "\u001b[0;32m<ipython-input-32-f3539a86e105>\u001b[0m in \u001b[0;36m<module>\u001b[0;34m\u001b[0m\n\u001b[1;32m      1\u001b[0m \u001b[0mwd\u001b[0m \u001b[0;34m=\u001b[0m \u001b[0;32mNone\u001b[0m\u001b[0;34m\u001b[0m\u001b[0;34m\u001b[0m\u001b[0m\n\u001b[0;32m----> 2\u001b[0;31m \u001b[0mlearning_rate\u001b[0m \u001b[0;34m=\u001b[0m \u001b[0mexperiment_x\u001b[0m\u001b[0;34m.\u001b[0m\u001b[0mparameters\u001b[0m\u001b[0;34m\u001b[0m\u001b[0;34m\u001b[0m\u001b[0m\n\u001b[0m\u001b[1;32m      3\u001b[0m \u001b[0mnum_epochs\u001b[0m \u001b[0;34m=\u001b[0m \u001b[0;36m2\u001b[0m\u001b[0;34m\u001b[0m\u001b[0;34m\u001b[0m\u001b[0m\n\u001b[1;32m      4\u001b[0m \u001b[0;31m#######\u001b[0m\u001b[0;34m\u001b[0m\u001b[0;34m\u001b[0m\u001b[0;34m\u001b[0m\u001b[0m\n\u001b[1;32m      5\u001b[0m \u001b[0min_dim\u001b[0m \u001b[0;34m=\u001b[0m \u001b[0mlen\u001b[0m\u001b[0;34m(\u001b[0m\u001b[0mdf2\u001b[0m\u001b[0;34m.\u001b[0m\u001b[0miloc\u001b[0m\u001b[0;34m[\u001b[0m\u001b[0;36m0\u001b[0m\u001b[0;34m,\u001b[0m\u001b[0;34m:\u001b[0m\u001b[0;34m]\u001b[0m\u001b[0;34m)\u001b[0m\u001b[0;34m\u001b[0m\u001b[0;34m\u001b[0m\u001b[0m\n",
      "\u001b[0;31mAttributeError\u001b[0m: 'PreProcessing' object has no attribute 'parameters'"
     ]
    }
   ],
   "source": [
    "wd = None\n",
    "learning_rate = experiment_x.params['model_params']['learning_rate']['value']\n",
    "num_epochs = experiment_x.params['model_params']['num_epochs']['value']\n",
    "#######\n",
    "in_dim = experiment_x.dataloader.data.shape[0]\n",
    "out_dim = experiment_x.dataloader.labels.shape[0]\n",
    "#######\n",
    "\n",
    "model = autoencoder(in_dim, out_dim).cuda()\n",
    "train_loss = torch.nn.L1Loss()\n",
    "optimizer = torch.optim.Adam(model.parameters(), lr=learning_rate, weight_decay=wd)\n",
    "\n",
    "\n",
    "for epoch in range(num_epochs):\n",
    "    for data in experiment_x.dataloader.test_loader:\n",
    "        img, _ = data\n",
    "        img = img.view(img.size(0), -1)\n",
    "        img = Variable(img).cuda()\n",
    "        # Fprop\n",
    "        output = model(img)\n",
    "        loss = train_loss(output, img)\n",
    "        # bprop\n",
    "        optimizer.zero_grad()\n",
    "        loss.backward()\n",
    "        optimizer.step()\n",
    "        \n",
    "        # TODO: NEED TEST SET\n",
    "        \n",
    "    # ===================log========================\n",
    "    print('epoch [{}/{}], loss:{:.4f}'\n",
    "          .format(epoch + 1, num_epochs, loss.data[0]))\n",
    "    if epoch % 10 == 0:\n",
    "        pic = to_img(output.cpu().data)\n",
    "        save_image(pic, './mlp_img/image_{}.png'.format(epoch))\n",
    "\n",
    "torch.save(model.state_dict(), './sim_autoencoder.pth')"
   ]
  },
  {
   "cell_type": "code",
   "execution_count": null,
   "metadata": {},
   "outputs": [],
   "source": []
  }
 ],
 "metadata": {
  "kernelspec": {
   "display_name": "Python 3",
   "language": "python",
   "name": "python3"
  },
  "language_info": {
   "codemirror_mode": {
    "name": "ipython",
    "version": 3
   },
   "file_extension": ".py",
   "mimetype": "text/x-python",
   "name": "python",
   "nbconvert_exporter": "python",
   "pygments_lexer": "ipython3",
   "version": "3.6.9"
  }
 },
 "nbformat": 4,
 "nbformat_minor": 4
}
