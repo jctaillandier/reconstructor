{
 "cells": [
  {
   "cell_type": "code",
   "execution_count": 1,
   "metadata": {},
   "outputs": [],
   "source": [
    "import csv \n",
    "import pandas as pd\n",
    "import numpy as np"
   ]
  },
  {
   "cell_type": "code",
   "execution_count": 14,
   "metadata": {},
   "outputs": [],
   "source": [
    "df_of = pd.read_csv('../../GeneralDatasets/Csv/Adult_NotNA.csv')\n",
    "df = pd.read_csv('../../focus_data/gansanitized/adult_sanitized_0.9875.csv')\n",
    "df2 = pd.read_csv('./adult_sanitized_0.9875.csv')"
   ]
  },
  {
   "cell_type": "code",
   "execution_count": 15,
   "metadata": {},
   "outputs": [
    {
     "data": {
      "text/html": [
       "<div>\n",
       "<style scoped>\n",
       "    .dataframe tbody tr th:only-of-type {\n",
       "        vertical-align: middle;\n",
       "    }\n",
       "\n",
       "    .dataframe tbody tr th {\n",
       "        vertical-align: top;\n",
       "    }\n",
       "\n",
       "    .dataframe thead th {\n",
       "        text-align: right;\n",
       "    }\n",
       "</style>\n",
       "<table border=\"1\" class=\"dataframe\">\n",
       "  <thead>\n",
       "    <tr style=\"text-align: right;\">\n",
       "      <th></th>\n",
       "      <th>age</th>\n",
       "      <th>workclass</th>\n",
       "      <th>fnlwgt</th>\n",
       "      <th>education</th>\n",
       "      <th>education-num</th>\n",
       "      <th>marital-status</th>\n",
       "      <th>occupation</th>\n",
       "      <th>relationship</th>\n",
       "      <th>race</th>\n",
       "      <th>sex</th>\n",
       "      <th>capital-gain</th>\n",
       "      <th>capital-loss</th>\n",
       "      <th>hours-per-week</th>\n",
       "      <th>native-country</th>\n",
       "      <th>income</th>\n",
       "    </tr>\n",
       "  </thead>\n",
       "  <tbody>\n",
       "    <tr>\n",
       "      <th>0</th>\n",
       "      <td>44.491077</td>\n",
       "      <td>Private</td>\n",
       "      <td>177792.48</td>\n",
       "      <td>5th-6th</td>\n",
       "      <td>8.062889</td>\n",
       "      <td>Married-civ-spouse</td>\n",
       "      <td>Protective-serv</td>\n",
       "      <td>Husband</td>\n",
       "      <td>Black</td>\n",
       "      <td>0</td>\n",
       "      <td>0.0</td>\n",
       "      <td>0.0</td>\n",
       "      <td>48.742780</td>\n",
       "      <td>United-States</td>\n",
       "      <td>0</td>\n",
       "    </tr>\n",
       "    <tr>\n",
       "      <th>1</th>\n",
       "      <td>33.449830</td>\n",
       "      <td>Private</td>\n",
       "      <td>187664.88</td>\n",
       "      <td>5th-6th</td>\n",
       "      <td>9.140199</td>\n",
       "      <td>Never-married</td>\n",
       "      <td>Farming-fishing</td>\n",
       "      <td>Not-in-family</td>\n",
       "      <td>White</td>\n",
       "      <td>1</td>\n",
       "      <td>0.0</td>\n",
       "      <td>0.0</td>\n",
       "      <td>45.423714</td>\n",
       "      <td>United-States</td>\n",
       "      <td>0</td>\n",
       "    </tr>\n",
       "    <tr>\n",
       "      <th>2</th>\n",
       "      <td>48.799340</td>\n",
       "      <td>Federal-gov</td>\n",
       "      <td>183387.36</td>\n",
       "      <td>HS-grad</td>\n",
       "      <td>9.437400</td>\n",
       "      <td>Married-civ-spouse</td>\n",
       "      <td>Adm-clerical</td>\n",
       "      <td>Husband</td>\n",
       "      <td>White</td>\n",
       "      <td>0</td>\n",
       "      <td>0.0</td>\n",
       "      <td>0.0</td>\n",
       "      <td>45.083870</td>\n",
       "      <td>United-States</td>\n",
       "      <td>1</td>\n",
       "    </tr>\n",
       "    <tr>\n",
       "      <th>3</th>\n",
       "      <td>43.986004</td>\n",
       "      <td>Private</td>\n",
       "      <td>183030.10</td>\n",
       "      <td>Bachelors</td>\n",
       "      <td>10.944422</td>\n",
       "      <td>Married-civ-spouse</td>\n",
       "      <td>Exec-managerial</td>\n",
       "      <td>Husband</td>\n",
       "      <td>White</td>\n",
       "      <td>1</td>\n",
       "      <td>0.0</td>\n",
       "      <td>0.0</td>\n",
       "      <td>48.943745</td>\n",
       "      <td>United-States</td>\n",
       "      <td>1</td>\n",
       "    </tr>\n",
       "    <tr>\n",
       "      <th>4</th>\n",
       "      <td>17.069460</td>\n",
       "      <td>Private</td>\n",
       "      <td>162516.28</td>\n",
       "      <td>HS-grad</td>\n",
       "      <td>8.532927</td>\n",
       "      <td>Never-married</td>\n",
       "      <td>Farming-fishing</td>\n",
       "      <td>Own-child</td>\n",
       "      <td>White</td>\n",
       "      <td>1</td>\n",
       "      <td>0.0</td>\n",
       "      <td>0.0</td>\n",
       "      <td>37.547226</td>\n",
       "      <td>United-States</td>\n",
       "      <td>0</td>\n",
       "    </tr>\n",
       "  </tbody>\n",
       "</table>\n",
       "</div>"
      ],
      "text/plain": [
       "         age    workclass     fnlwgt  education  education-num  \\\n",
       "0  44.491077      Private  177792.48    5th-6th       8.062889   \n",
       "1  33.449830      Private  187664.88    5th-6th       9.140199   \n",
       "2  48.799340  Federal-gov  183387.36    HS-grad       9.437400   \n",
       "3  43.986004      Private  183030.10  Bachelors      10.944422   \n",
       "4  17.069460      Private  162516.28    HS-grad       8.532927   \n",
       "\n",
       "       marital-status       occupation   relationship   race  sex  \\\n",
       "0  Married-civ-spouse  Protective-serv        Husband  Black    0   \n",
       "1       Never-married  Farming-fishing  Not-in-family  White    1   \n",
       "2  Married-civ-spouse     Adm-clerical        Husband  White    0   \n",
       "3  Married-civ-spouse  Exec-managerial        Husband  White    1   \n",
       "4       Never-married  Farming-fishing      Own-child  White    1   \n",
       "\n",
       "   capital-gain  capital-loss  hours-per-week native-country  income  \n",
       "0           0.0           0.0       48.742780  United-States       0  \n",
       "1           0.0           0.0       45.423714  United-States       0  \n",
       "2           0.0           0.0       45.083870  United-States       1  \n",
       "3           0.0           0.0       48.943745  United-States       1  \n",
       "4           0.0           0.0       37.547226  United-States       0  "
      ]
     },
     "execution_count": 15,
     "metadata": {},
     "output_type": "execute_result"
    }
   ],
   "source": [
    "col = 'race'\n",
    "col_index = df2.columns.tolist().index(col)\n",
    "df2.head(5)"
   ]
  },
  {
   "cell_type": "code",
   "execution_count": 16,
   "metadata": {},
   "outputs": [
    {
     "name": "stdout",
     "output_type": "stream",
     "text": [
      "prop of zeros: 0.8886161602759719 \n",
      "prop of ones: 0.11138383972402813 \n",
      "Total of entries: 45222 \n"
     ]
    }
   ],
   "source": [
    "ones = 0\n",
    "zeros = 0\n",
    "for i in df2.values:\n",
    "    if i[col_index] == 'White':\n",
    "        zeros = zeros+1\n",
    "    else:\n",
    "        ones = ones+1\n",
    "total = ones+zeros\n",
    "\n",
    "print(f\"prop of zeros: {zeros/total} \")\n",
    "print(f\"prop of ones: {ones/total} \")\n",
    "print(f\"Total of entries: {total} \")"
   ]
  },
  {
   "cell_type": "code",
   "execution_count": 11,
   "metadata": {},
   "outputs": [
    {
     "data": {
      "text/plain": [
       "45222"
      ]
     },
     "execution_count": 11,
     "metadata": {},
     "output_type": "execute_result"
    }
   ],
   "source": [
    "(df['sex']==df2['sex']).count()"
   ]
  },
  {
   "cell_type": "code",
   "execution_count": null,
   "metadata": {},
   "outputs": [],
   "source": []
  }
 ],
 "metadata": {
  "kernelspec": {
   "display_name": "Python 3",
   "language": "python",
   "name": "python3"
  },
  "language_info": {
   "codemirror_mode": {
    "name": "ipython",
    "version": 3
   },
   "file_extension": ".py",
   "mimetype": "text/x-python",
   "name": "python",
   "nbconvert_exporter": "python",
   "pygments_lexer": "ipython3",
   "version": "3.6.9"
  }
 },
 "nbformat": 4,
 "nbformat_minor": 4
}
